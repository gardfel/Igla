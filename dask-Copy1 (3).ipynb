{
 "cells": [
  {
   "cell_type": "markdown",
   "metadata": {},
   "source": [
    "## Параллельный расчет с Dask\n",
    "https://dask.org/"
   ]
  },
  {
   "cell_type": "code",
   "execution_count": 69,
   "metadata": {},
   "outputs": [],
   "source": [
    "# Функция для параллельного расчета\n",
    "import numpy as np\n",
    "import random\n",
    "\n",
    "def foo(geom_kr, geom_op, geom_korp):\n",
    "    from NAVIver2 import Target, Rocket\n",
    "    import time\n",
    "        \n",
    "    targel = Target(3000, 3500, 320)\n",
    "    rockk = Rocket(targel.y, targel.x, geom_kr, geom_op, geom_korp)\n",
    "    # time.sleep(np.random.random())\n",
    "    return rockk.navigation(targel)\n",
    "\n",
    "def da_fit(rest):\n",
    "    maxis = 0\n",
    "    summF = 0\n",
    "    for i in range(len(rest)):\n",
    "        summF += rest[i]\n",
    "        if maxis <= rest[i]:\n",
    "            maxis = rest[i]\n",
    "    ans = np.zeros(len(rest))\n",
    "    for i in range(len(rest)):\n",
    "        ans[i] = rest[i] / summF\n",
    "    return ans\n",
    "\n",
    "def crosss(pipi):\n",
    "    krils, opers, korps, kri1, op1, korp1 = [], [], [], [], [], []\n",
    "    for i in range(len(pipi)):\n",
    "        krils.append(pipi[i][1])\n",
    "        opers.append(pipi[i][2])\n",
    "        korps.append(pipi[i][3])\n",
    "    for i in range(len(krils[0])):\n",
    "        kri1.append(krils[random.randint(0,1)][i])\n",
    "        op1.append(opers[random.randint(0,1)][i])\n",
    "    for i in range(len(korps[0])):\n",
    "        korp1.append(korps[random.randint(0,1)][i])\n",
    "    chichi = [0, kri1, op1, korp1]\n",
    "    return chichi\n",
    "        \n",
    "\n",
    "def da_new(croms):\n",
    "    croms.sort()\n",
    "    parent = croms[int(len(results)/2):]\n",
    "    child = []\n",
    "    # лучший родитель\n",
    "    child.append(parent[len(parent) - 1])\n",
    "    # дети лучших родителей    \n",
    "    for i in range(int(len(parent) * 2) - 2):\n",
    "        child.append(crosss(parent))\n",
    "    \n",
    "    # один рандомный мутант\n",
    "    \n",
    "    params_kr1 = np.zeros(5)\n",
    "    params_op1 = np.zeros(5)\n",
    "    params_kr1[0] = random.uniform(0.04, 0.115)\n",
    "    params_kr1[1] = random.uniform(0.002336, 0.010564)\n",
    "    params_kr1[2] = random.uniform(0.065, 0.105)\n",
    "    params_kr1[4] = random.uniform(0, 0.032)\n",
    "    \n",
    "    params_op1[0] = random.uniform(0.05, 0.18)\n",
    "    params_op1[1] = random.uniform(0.002, 0.0052)\n",
    "    params_op1[2] = random.uniform(0.02, 0.034)\n",
    "    params_op1[4] = random.uniform(0.328, 0.0356) \n",
    "    \n",
    "    params_krop1 = np.array([0.0974, 0.050, 0.160])\n",
    "    mutant = [0, params_kr1, params_op1, params_krop1]\n",
    "    child.append(mutant)\n",
    "    \n",
    "    return child\n",
    "\n",
    "    "
   ]
  },
  {
   "cell_type": "code",
   "execution_count": 2,
   "metadata": {},
   "outputs": [
    {
     "data": {
      "text/html": [
       "<table style=\"border: 2px solid white;\">\n",
       "<tr>\n",
       "<td style=\"vertical-align: top; border: 0px solid white\">\n",
       "<h3 style=\"text-align: left;\">Client</h3>\n",
       "<ul style=\"text-align: left; list-style: none; margin: 0; padding: 0;\">\n",
       "  <li><b>Scheduler: </b>tcp://127.0.0.1:56013</li>\n",
       "  <li><b>Dashboard: </b><a href='http://127.0.0.1:8787/status' target='_blank'>http://127.0.0.1:8787/status</a></li>\n",
       "</ul>\n",
       "</td>\n",
       "<td style=\"vertical-align: top; border: 0px solid white\">\n",
       "<h3 style=\"text-align: left;\">Cluster</h3>\n",
       "<ul style=\"text-align: left; list-style:none; margin: 0; padding: 0;\">\n",
       "  <li><b>Workers: </b>16</li>\n",
       "  <li><b>Cores: </b>16</li>\n",
       "  <li><b>Memory: </b>15.88 GiB</li>\n",
       "</ul>\n",
       "</td>\n",
       "</tr>\n",
       "</table>"
      ],
      "text/plain": [
       "<Client: 'tcp://127.0.0.1:56013' processes=16 threads=16, memory=15.88 GiB>"
      ]
     },
     "execution_count": 2,
     "metadata": {},
     "output_type": "execute_result"
    }
   ],
   "source": [
    "# \n",
    "\n",
    "from distributed import Client, LocalCluster\n",
    "\n",
    "cl = Client(LocalCluster(n_workers=16, threads_per_worker=1))\n",
    "cl"
   ]
  },
  {
   "cell_type": "code",
   "execution_count": 3,
   "metadata": {},
   "outputs": [],
   "source": [
    "# заполнение параметров\n",
    "\n",
    "# параметры крыльев\n",
    "params_kr = np.array([[0.096, 0.008912, 0.10568, 0, 0.015], \n",
    "                     [0.04, 0.0022, 0.065, 0, 0.015],\n",
    "                     [0.115, 0.010564, 0.105, 0, 0.015],\n",
    "                     [0.098, 0.00917336, 0.10568, 0, 0.015]])\n",
    "\n",
    "# ограничение по длине: 0.04...0.115\n",
    "# ограничение по площади: 0.002336 ... 0.010564\n",
    "# ограничение по бортовой хорде: 0.065 ... 0.105\n",
    "# ограничение по расстоянию до кормового среза: 0.0 ... 0.032\n",
    "# \n",
    "\n",
    "# параметры рулей\n",
    "params_op = np.array([[0.17824, 0.0055380742, 0.03214, 0, 0.35], \n",
    "                      [0.005, 0.002, 0.02, 0, 0.35], \n",
    "                      [0.18, 0.0052, 0.034, 0, 0.35],\n",
    "                      [0.12576, 0.0038426, 0.034, 0, 0.35]])\n",
    "\n",
    "# ограничение по длине: 0.05...0.18\n",
    "# ограничение по площади: 0.002 ... 0.0052\n",
    "# ограничение по корневой хорде: 0.02 ... 0.034\n",
    "# ограничение по расстоянию от носика: 0.328 ... 0.0356\n",
    "# \n",
    "\n",
    "# параметры корпуса\n",
    "params_korp = np.array([[0.0974, 0.050, 0.160], \n",
    "                        [0.0974, 0.050, 0.160], \n",
    "                        [0.0974, 0.050, 0.160],\n",
    "                        [0.0974, 0.050, 0.160]])\n",
    "# params_x = ([3000, 3000, 3000, 3000])\n",
    "# params_y = ([3500, 3500, 3500, 3500])\n",
    "# params_v = np.array([320, 320, 320, 320])"
   ]
  },
  {
   "cell_type": "code",
   "execution_count": 4,
   "metadata": {},
   "outputs": [],
   "source": [
    "futures = cl.map(foo, params_kr, params_op, params_korp, pure=False)"
   ]
  },
  {
   "cell_type": "code",
   "execution_count": 5,
   "metadata": {
    "scrolled": true
   },
   "outputs": [
    {
     "data": {
      "text/plain": [
       "[<Future: pending, key: foo-94bdb49e-f73b-4c5b-8c51-c5d374ca530c-0>,\n",
       " <Future: pending, key: foo-94bdb49e-f73b-4c5b-8c51-c5d374ca530c-1>,\n",
       " <Future: pending, key: foo-94bdb49e-f73b-4c5b-8c51-c5d374ca530c-2>,\n",
       " <Future: pending, key: foo-94bdb49e-f73b-4c5b-8c51-c5d374ca530c-3>]"
      ]
     },
     "execution_count": 5,
     "metadata": {},
     "output_type": "execute_result"
    }
   ],
   "source": [
    "futures"
   ]
  },
  {
   "cell_type": "code",
   "execution_count": 6,
   "metadata": {},
   "outputs": [],
   "source": [
    "results = cl.gather(futures)"
   ]
  },
  {
   "cell_type": "code",
   "execution_count": 7,
   "metadata": {
    "scrolled": false
   },
   "outputs": [
    {
     "data": {
      "text/plain": [
       "[0.9668007702402822,\n",
       " 0.1852347775599727,\n",
       " 0.9201526105472436,\n",
       " 1.1525261449633764]"
      ]
     },
     "execution_count": 7,
     "metadata": {},
     "output_type": "execute_result"
    }
   ],
   "source": [
    "results"
   ]
  },
  {
   "cell_type": "code",
   "execution_count": 8,
   "metadata": {},
   "outputs": [],
   "source": [
    "dab = da_fit(results)\n"
   ]
  },
  {
   "cell_type": "code",
   "execution_count": 9,
   "metadata": {},
   "outputs": [
    {
     "data": {
      "text/plain": [
       "array([0.29980974, 0.05744223, 0.28534392, 0.35740411])"
      ]
     },
     "execution_count": 9,
     "metadata": {},
     "output_type": "execute_result"
    }
   ],
   "source": [
    "dab"
   ]
  },
  {
   "cell_type": "code",
   "execution_count": 10,
   "metadata": {},
   "outputs": [],
   "source": [
    "summs = 0\n",
    "for i in range(len(results)):\n",
    "    summs += dab[i]\n",
    "kris = summs / len(results)\n",
    "\n"
   ]
  },
  {
   "cell_type": "code",
   "execution_count": 37,
   "metadata": {},
   "outputs": [
    {
     "data": {
      "text/plain": [
       "[[0.29980974415241984,\n",
       "  array([0.096   , 0.008912, 0.10568 , 0.      , 0.015   ]),\n",
       "  array([0.17824   , 0.00553807, 0.03214   , 0.        , 0.35      ]),\n",
       "  array([0.0974, 0.05  , 0.16  ])],\n",
       " [0.05744222902778974,\n",
       "  array([0.04  , 0.0022, 0.065 , 0.    , 0.015 ]),\n",
       "  array([0.005, 0.002, 0.02 , 0.   , 0.35 ]),\n",
       "  array([0.0974, 0.05  , 0.16  ])],\n",
       " [0.2853439170107273,\n",
       "  array([0.115   , 0.010564, 0.105   , 0.      , 0.015   ]),\n",
       "  array([0.18  , 0.0052, 0.034 , 0.    , 0.35  ]),\n",
       "  array([0.0974, 0.05  , 0.16  ])],\n",
       " [0.3574041098090631,\n",
       "  array([0.098     , 0.00917336, 0.10568   , 0.        , 0.015     ]),\n",
       "  array([0.12576  , 0.0038426, 0.034    , 0.       , 0.35     ]),\n",
       "  array([0.0974, 0.05  , 0.16  ])]]"
      ]
     },
     "execution_count": 37,
     "metadata": {},
     "output_type": "execute_result"
    }
   ],
   "source": [
    "croms = []\n",
    "for i in range(len(results)):\n",
    "    croms.append([dab[i], params_kr[i], params_op[i], params_korp[i]])\n",
    "croms"
   ]
  },
  {
   "cell_type": "code",
   "execution_count": 38,
   "metadata": {},
   "outputs": [
    {
     "data": {
      "text/plain": [
       "[[0.05744222902778974,\n",
       "  array([0.04  , 0.0022, 0.065 , 0.    , 0.015 ]),\n",
       "  array([0.005, 0.002, 0.02 , 0.   , 0.35 ]),\n",
       "  array([0.0974, 0.05  , 0.16  ])],\n",
       " [0.2853439170107273,\n",
       "  array([0.115   , 0.010564, 0.105   , 0.      , 0.015   ]),\n",
       "  array([0.18  , 0.0052, 0.034 , 0.    , 0.35  ]),\n",
       "  array([0.0974, 0.05  , 0.16  ])],\n",
       " [0.29980974415241984,\n",
       "  array([0.096   , 0.008912, 0.10568 , 0.      , 0.015   ]),\n",
       "  array([0.17824   , 0.00553807, 0.03214   , 0.        , 0.35      ]),\n",
       "  array([0.0974, 0.05  , 0.16  ])],\n",
       " [0.3574041098090631,\n",
       "  array([0.098     , 0.00917336, 0.10568   , 0.        , 0.015     ]),\n",
       "  array([0.12576  , 0.0038426, 0.034    , 0.       , 0.35     ]),\n",
       "  array([0.0974, 0.05  , 0.16  ])]]"
      ]
     },
     "execution_count": 38,
     "metadata": {},
     "output_type": "execute_result"
    }
   ],
   "source": [
    "croms.sort()\n",
    "croms"
   ]
  },
  {
   "cell_type": "code",
   "execution_count": 39,
   "metadata": {},
   "outputs": [
    {
     "name": "stdout",
     "output_type": "stream",
     "text": [
      "[[0.29980974415241984, array([0.096   , 0.008912, 0.10568 , 0.      , 0.015   ]), array([0.17824   , 0.00553807, 0.03214   , 0.        , 0.35      ]), array([0.0974, 0.05  , 0.16  ])], [0.3574041098090631, array([0.098     , 0.00917336, 0.10568   , 0.        , 0.015     ]), array([0.12576  , 0.0038426, 0.034    , 0.       , 0.35     ]), array([0.0974, 0.05  , 0.16  ])]]\n"
     ]
    }
   ],
   "source": [
    "print(croms[int(len(results)/2):])"
   ]
  },
  {
   "cell_type": "code",
   "execution_count": 40,
   "metadata": {},
   "outputs": [
    {
     "name": "stdout",
     "output_type": "stream",
     "text": [
      "[0.05744222902778974, array([0.04  , 0.0022, 0.065 , 0.    , 0.015 ]), array([0.005, 0.002, 0.02 , 0.   , 0.35 ]), array([0.0974, 0.05  , 0.16  ])]\n"
     ]
    }
   ],
   "source": [
    "print(croms[0])"
   ]
  },
  {
   "cell_type": "code",
   "execution_count": 70,
   "metadata": {},
   "outputs": [
    {
     "name": "stdout",
     "output_type": "stream",
     "text": [
      "[[0.3574041098090631, array([0.098     , 0.00917336, 0.10568   , 0.        , 0.015     ]), array([0.12576  , 0.0038426, 0.034    , 0.       , 0.35     ]), array([0.0974, 0.05  , 0.16  ])], [0, [0.098, 0.008912, 0.10568, 0.0, 0.015], [0.17824, 0.0055380742, 0.03214, 0.0, 0.35], [0.0974, 0.05, 0.16]], [0, [0.096, 0.008912, 0.10568, 0.0, 0.015], [0.12576, 0.0055380742, 0.034, 0.0, 0.35], [0.0974, 0.05, 0.16]], [0, array([0.05367478, 0.0093764 , 0.09995881, 0.        , 0.00850575]), array([0.12860549, 0.00455378, 0.02075837, 0.        , 0.23160194]), array([0.0974, 0.05  , 0.16  ])]]\n"
     ]
    }
   ],
   "source": [
    "chicha = da_new(croms)\n",
    "print(chicha)"
   ]
  },
  {
   "cell_type": "code",
   "execution_count": 71,
   "metadata": {},
   "outputs": [
    {
     "name": "stdout",
     "output_type": "stream",
     "text": [
      "[0.3574041098090631, array([0.098     , 0.00917336, 0.10568   , 0.        , 0.015     ]), array([0.12576  , 0.0038426, 0.034    , 0.       , 0.35     ]), array([0.0974, 0.05  , 0.16  ])]\n",
      "\n",
      "[0, [0.098, 0.008912, 0.10568, 0.0, 0.015], [0.17824, 0.0055380742, 0.03214, 0.0, 0.35], [0.0974, 0.05, 0.16]]\n",
      "\n",
      "[0, [0.096, 0.008912, 0.10568, 0.0, 0.015], [0.12576, 0.0055380742, 0.034, 0.0, 0.35], [0.0974, 0.05, 0.16]]\n",
      "\n",
      "[0, array([0.05367478, 0.0093764 , 0.09995881, 0.        , 0.00850575]), array([0.12860549, 0.00455378, 0.02075837, 0.        , 0.23160194]), array([0.0974, 0.05  , 0.16  ])]\n",
      "\n"
     ]
    }
   ],
   "source": [
    "for i in range(len(chicha)):\n",
    "    print(chicha[i])\n",
    "    print()"
   ]
  },
  {
   "cell_type": "code",
   "execution_count": 73,
   "metadata": {},
   "outputs": [
    {
     "data": {
      "text/plain": [
       "[1.1525261449633764, 0.9659235304809753, 0.9692540899055379, 0.811317878915653]"
      ]
     },
     "execution_count": 73,
     "metadata": {},
     "output_type": "execute_result"
    }
   ],
   "source": [
    "params_kr, params_op, params_korp = [], [], []\n",
    "for i in range(len(chicha)):\n",
    "    params_kr.append(chicha[i][1])\n",
    "    params_op.append(chicha[i][2])\n",
    "    params_korp.append(chicha[i][3])\n",
    "\n",
    "futures = cl.map(foo, params_kr, params_op, params_korp, pure=False)\n",
    "cl.gather(futures)"
   ]
  },
  {
   "cell_type": "code",
   "execution_count": null,
   "metadata": {},
   "outputs": [],
   "source": []
  }
 ],
 "metadata": {
  "kernelspec": {
   "display_name": "Python 3",
   "language": "python",
   "name": "python3"
  },
  "language_info": {
   "codemirror_mode": {
    "name": "ipython",
    "version": 3
   },
   "file_extension": ".py",
   "mimetype": "text/x-python",
   "name": "python",
   "nbconvert_exporter": "python",
   "pygments_lexer": "ipython3",
   "version": "3.7.4"
  }
 },
 "nbformat": 4,
 "nbformat_minor": 4
}
